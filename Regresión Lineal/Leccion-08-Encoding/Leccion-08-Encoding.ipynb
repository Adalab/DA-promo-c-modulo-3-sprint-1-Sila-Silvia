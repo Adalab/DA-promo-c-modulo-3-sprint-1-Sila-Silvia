{
 "cells": [
  {
   "attachments": {},
   "cell_type": "markdown",
   "metadata": {},
   "source": [
    "# Ejercicios Pair Programming \n",
    "## Lección 8 - Encoding"
   ]
  },
  {
   "attachments": {},
   "cell_type": "markdown",
   "metadata": {},
   "source": [
    "En el pair programming de hoy usaremos el set de datos que guardastéis en el pair programming de normalización y estandarización."
   ]
  },
  {
   "cell_type": "code",
   "execution_count": 66,
   "metadata": {},
   "outputs": [],
   "source": [
    "#Librerias\n",
    "\n",
    "import pandas as pd\n",
    "from scipy import stats\n",
    "from sklearn.preprocessing import OrdinalEncoder\n",
    "from sklearn.preprocessing import OneHotEncoder\n",
    "\n",
    "\n",
    "# Warning\n",
    "import warnings\n",
    "warnings.filterwarnings('ignore')"
   ]
  },
  {
   "attachments": {},
   "cell_type": "markdown",
   "metadata": {},
   "source": [
    "Tras el estudio de Anova solo nos hemos quedado con una variable categórica a la que le realizaremos el encoding. Para practicar el encoding hemos cargado el dataframe de estandarización donde nos aparece otra variable categórica a la que le realizaremos el encoding también."
   ]
  },
  {
   "cell_type": "code",
   "execution_count": 67,
   "metadata": {},
   "outputs": [],
   "source": [
    "df_standard = pd.read_csv(\"supermercado_estandarizado_standard.csv\", index_col=0)\n",
    "df_anova = pd.read_csv(\"supermercado_anova.csv\", index_col=0)"
   ]
  },
  {
   "cell_type": "code",
   "execution_count": 68,
   "metadata": {},
   "outputs": [
    {
     "data": {
      "text/html": [
       "<div>\n",
       "<style scoped>\n",
       "    .dataframe tbody tr th:only-of-type {\n",
       "        vertical-align: middle;\n",
       "    }\n",
       "\n",
       "    .dataframe tbody tr th {\n",
       "        vertical-align: top;\n",
       "    }\n",
       "\n",
       "    .dataframe thead th {\n",
       "        text-align: right;\n",
       "    }\n",
       "</style>\n",
       "<table border=\"1\" class=\"dataframe\">\n",
       "  <thead>\n",
       "    <tr style=\"text-align: right;\">\n",
       "      <th></th>\n",
       "      <th>id</th>\n",
       "      <th>year_birth</th>\n",
       "      <th>education</th>\n",
       "      <th>marital_status</th>\n",
       "      <th>income</th>\n",
       "      <th>dt_customer</th>\n",
       "      <th>numdealspurchases</th>\n",
       "      <th>numstorepurchases</th>\n",
       "      <th>numwebvisitsmonth</th>\n",
       "      <th>numwebpurchases_sklearn</th>\n",
       "    </tr>\n",
       "  </thead>\n",
       "  <tbody>\n",
       "    <tr>\n",
       "      <th>0</th>\n",
       "      <td>-1.157073</td>\n",
       "      <td>0.092613</td>\n",
       "      <td>Graduation</td>\n",
       "      <td>Divorced</td>\n",
       "      <td>1.608976</td>\n",
       "      <td>6/16/2014</td>\n",
       "      <td>-0.701068</td>\n",
       "      <td>0.052191</td>\n",
       "      <td>-1.803407</td>\n",
       "      <td>0.363636</td>\n",
       "    </tr>\n",
       "    <tr>\n",
       "      <th>1</th>\n",
       "      <td>-1.719067</td>\n",
       "      <td>-0.676627</td>\n",
       "      <td>Graduation</td>\n",
       "      <td>Single</td>\n",
       "      <td>0.264394</td>\n",
       "      <td>6/15/2014</td>\n",
       "      <td>-0.701068</td>\n",
       "      <td>0.361131</td>\n",
       "      <td>-0.142553</td>\n",
       "      <td>0.636364</td>\n",
       "    </tr>\n",
       "    <tr>\n",
       "      <th>2</th>\n",
       "      <td>1.506626</td>\n",
       "      <td>-0.933040</td>\n",
       "      <td>Graduation</td>\n",
       "      <td>Married</td>\n",
       "      <td>0.757562</td>\n",
       "      <td>5/13/2014</td>\n",
       "      <td>-0.701068</td>\n",
       "      <td>-0.256748</td>\n",
       "      <td>-1.388194</td>\n",
       "      <td>0.272727</td>\n",
       "    </tr>\n",
       "    <tr>\n",
       "      <th>3</th>\n",
       "      <td>-1.292567</td>\n",
       "      <td>-0.163800</td>\n",
       "      <td>Graduation</td>\n",
       "      <td>Together</td>\n",
       "      <td>-0.928642</td>\n",
       "      <td>11/5/2014</td>\n",
       "      <td>-0.701068</td>\n",
       "      <td>-1.183568</td>\n",
       "      <td>0.687874</td>\n",
       "      <td>0.090909</td>\n",
       "    </tr>\n",
       "    <tr>\n",
       "      <th>4</th>\n",
       "      <td>-0.065418</td>\n",
       "      <td>1.716564</td>\n",
       "      <td>Graduation</td>\n",
       "      <td>Single</td>\n",
       "      <td>-1.461745</td>\n",
       "      <td>8/4/2014</td>\n",
       "      <td>-0.170569</td>\n",
       "      <td>-1.183568</td>\n",
       "      <td>0.687874</td>\n",
       "      <td>0.272727</td>\n",
       "    </tr>\n",
       "  </tbody>\n",
       "</table>\n",
       "</div>"
      ],
      "text/plain": [
       "         id  year_birth   education marital_status    income dt_customer  \\\n",
       "0 -1.157073    0.092613  Graduation       Divorced  1.608976   6/16/2014   \n",
       "1 -1.719067   -0.676627  Graduation         Single  0.264394   6/15/2014   \n",
       "2  1.506626   -0.933040  Graduation        Married  0.757562   5/13/2014   \n",
       "3 -1.292567   -0.163800  Graduation       Together -0.928642   11/5/2014   \n",
       "4 -0.065418    1.716564  Graduation         Single -1.461745    8/4/2014   \n",
       "\n",
       "   numdealspurchases  numstorepurchases  numwebvisitsmonth  \\\n",
       "0          -0.701068           0.052191          -1.803407   \n",
       "1          -0.701068           0.361131          -0.142553   \n",
       "2          -0.701068          -0.256748          -1.388194   \n",
       "3          -0.701068          -1.183568           0.687874   \n",
       "4          -0.170569          -1.183568           0.687874   \n",
       "\n",
       "   numwebpurchases_sklearn  \n",
       "0                 0.363636  \n",
       "1                 0.636364  \n",
       "2                 0.272727  \n",
       "3                 0.090909  \n",
       "4                 0.272727  "
      ]
     },
     "execution_count": 68,
     "metadata": {},
     "output_type": "execute_result"
    }
   ],
   "source": [
    "df_standard.head()"
   ]
  },
  {
   "attachments": {},
   "cell_type": "markdown",
   "metadata": {},
   "source": [
    "Vuestro set de datos debería tener al menos una variable categórica, el objetivo del pair programming de hoy:\n",
    "\n",
    "Hacer una códificación de la/las variables categóricas que tengáis en vuestro set de datos.\n",
    "\n",
    "Recordad que lo primero que deberéis hacer es decidir su vuestras variables tienen o no orden, para que en función de esto uséis una aproximación u otra."
   ]
  },
  {
   "attachments": {},
   "cell_type": "markdown",
   "metadata": {},
   "source": [
    "### Codificación de la variable categórica \"marital_status\" en el dataframe Anova"
   ]
  },
  {
   "cell_type": "code",
   "execution_count": 69,
   "metadata": {},
   "outputs": [
    {
     "data": {
      "text/html": [
       "<div>\n",
       "<style scoped>\n",
       "    .dataframe tbody tr th:only-of-type {\n",
       "        vertical-align: middle;\n",
       "    }\n",
       "\n",
       "    .dataframe tbody tr th {\n",
       "        vertical-align: top;\n",
       "    }\n",
       "\n",
       "    .dataframe thead th {\n",
       "        text-align: right;\n",
       "    }\n",
       "</style>\n",
       "<table border=\"1\" class=\"dataframe\">\n",
       "  <thead>\n",
       "    <tr style=\"text-align: right;\">\n",
       "      <th></th>\n",
       "      <th>marital_status</th>\n",
       "      <th>income</th>\n",
       "      <th>numdealspurchases</th>\n",
       "      <th>numstorepurchases</th>\n",
       "      <th>numwebvisitsmonth</th>\n",
       "      <th>numwebpurchases_sklearn</th>\n",
       "    </tr>\n",
       "  </thead>\n",
       "  <tbody>\n",
       "    <tr>\n",
       "      <th>0</th>\n",
       "      <td>Divorced</td>\n",
       "      <td>1.608976</td>\n",
       "      <td>-0.701068</td>\n",
       "      <td>0.052191</td>\n",
       "      <td>-1.803407</td>\n",
       "      <td>0.363636</td>\n",
       "    </tr>\n",
       "    <tr>\n",
       "      <th>1</th>\n",
       "      <td>Single</td>\n",
       "      <td>0.264394</td>\n",
       "      <td>-0.701068</td>\n",
       "      <td>0.361131</td>\n",
       "      <td>-0.142553</td>\n",
       "      <td>0.636364</td>\n",
       "    </tr>\n",
       "    <tr>\n",
       "      <th>2</th>\n",
       "      <td>Married</td>\n",
       "      <td>0.757562</td>\n",
       "      <td>-0.701068</td>\n",
       "      <td>-0.256748</td>\n",
       "      <td>-1.388194</td>\n",
       "      <td>0.272727</td>\n",
       "    </tr>\n",
       "    <tr>\n",
       "      <th>3</th>\n",
       "      <td>Together</td>\n",
       "      <td>-0.928642</td>\n",
       "      <td>-0.701068</td>\n",
       "      <td>-1.183568</td>\n",
       "      <td>0.687874</td>\n",
       "      <td>0.090909</td>\n",
       "    </tr>\n",
       "    <tr>\n",
       "      <th>4</th>\n",
       "      <td>Single</td>\n",
       "      <td>-1.461745</td>\n",
       "      <td>-0.170569</td>\n",
       "      <td>-1.183568</td>\n",
       "      <td>0.687874</td>\n",
       "      <td>0.272727</td>\n",
       "    </tr>\n",
       "  </tbody>\n",
       "</table>\n",
       "</div>"
      ],
      "text/plain": [
       "  marital_status    income  numdealspurchases  numstorepurchases  \\\n",
       "0       Divorced  1.608976          -0.701068           0.052191   \n",
       "1         Single  0.264394          -0.701068           0.361131   \n",
       "2        Married  0.757562          -0.701068          -0.256748   \n",
       "3       Together -0.928642          -0.701068          -1.183568   \n",
       "4         Single -1.461745          -0.170569          -1.183568   \n",
       "\n",
       "   numwebvisitsmonth  numwebpurchases_sklearn  \n",
       "0          -1.803407                 0.363636  \n",
       "1          -0.142553                 0.636364  \n",
       "2          -1.388194                 0.272727  \n",
       "3           0.687874                 0.090909  \n",
       "4           0.687874                 0.272727  "
      ]
     },
     "execution_count": 69,
     "metadata": {},
     "output_type": "execute_result"
    }
   ],
   "source": [
    "df_anova.head()"
   ]
  },
  {
   "attachments": {},
   "cell_type": "markdown",
   "metadata": {},
   "source": [
    "Empezaremos por el dataframe del estudio de Anova donde tenemos la variable categórica \"marital_status\". Analizando el comportamiento de esta variable predictora con la variable respuesta entendemos que los valores únicos de dicha variable si tienen un orden respecto a las compras online, es decir, si hay una relación directa entre tu estado civil y las compras en el supermercado online. \n",
    "\n",
    "Partimos de varios supuestos:\n",
    "\n",
    "1.- YOLO, Single, Alone, Widow y Absurd = se encontrarán en los rangos inferiores en el orden que establezcamos.\n",
    "\n",
    "2.- Together, Married y Divorced = se encontrarán en los rangos superiores en el orden que establezcamos.\n",
    "\n",
    "El criterio que establecemos para esta división se basa en una \"responsabilidad familiar\" y gestión de tiempo en relación a las compras básicas con el uso de la compra online como opción predominante.\n",
    "\n",
    "La clasificación que hemos decidido es: Absurd - 0, YOLO - 1, Alone - 2, Single - 3, Widow - 4, Together - 5, Married - 6 y Divorced - 7."
   ]
  },
  {
   "attachments": {},
   "cell_type": "markdown",
   "metadata": {},
   "source": [
    "Hemos decidio utilizar el método \"Ordinal Encoding\" porque hemos asignado etiquetas basadas en un orden o jerarquía."
   ]
  },
  {
   "cell_type": "code",
   "execution_count": 70,
   "metadata": {},
   "outputs": [
    {
     "data": {
      "text/plain": [
       "array(['Divorced', 'Single', 'Married', 'Together', 'Widow', 'YOLO',\n",
       "       'Alone', 'Absurd'], dtype=object)"
      ]
     },
     "execution_count": 70,
     "metadata": {},
     "output_type": "execute_result"
    }
   ],
   "source": [
    "df_anova[\"marital_status\"].unique()"
   ]
  },
  {
   "cell_type": "code",
   "execution_count": 71,
   "metadata": {},
   "outputs": [],
   "source": [
    "orden = [ \"Absurd\", \"YOLO\", \"Alone\", \"Single\", \"Widow\",\"Together\", \"Married\", \"Divorced\"]"
   ]
  },
  {
   "cell_type": "code",
   "execution_count": 72,
   "metadata": {},
   "outputs": [],
   "source": [
    "def ordinal_encoder1(df, columna, orden_valores):\n",
    "    \n",
    "    # iniciamos el método y aplicamos la transformación a los datos. \n",
    "    ordinal = OrdinalEncoder(categories = [orden], dtype = int)\n",
    "\n",
    "    transformados_oe = ordinal.fit_transform(df[[columna]])\n",
    "    \n",
    "    # lo convertimos a dataframe\n",
    "    oe_df = pd.DataFrame(transformados_oe)\n",
    "    # cambiamos el nombre de la columna\n",
    "    oe_df.columns = ordinal.feature_names_in_\n",
    "\n",
    "    columna += \"_oe\"\n",
    "    \n",
    "    # sobre escribimos la columna con los valores de la tranformación\n",
    "    df[columna] = oe_df\n",
    "     \n",
    "    return df"
   ]
  },
  {
   "cell_type": "code",
   "execution_count": 73,
   "metadata": {},
   "outputs": [],
   "source": [
    "df_anova = ordinal_encoder1(df_anova, \"marital_status\", orden)"
   ]
  },
  {
   "cell_type": "code",
   "execution_count": 74,
   "metadata": {},
   "outputs": [
    {
     "data": {
      "text/html": [
       "<div>\n",
       "<style scoped>\n",
       "    .dataframe tbody tr th:only-of-type {\n",
       "        vertical-align: middle;\n",
       "    }\n",
       "\n",
       "    .dataframe tbody tr th {\n",
       "        vertical-align: top;\n",
       "    }\n",
       "\n",
       "    .dataframe thead th {\n",
       "        text-align: right;\n",
       "    }\n",
       "</style>\n",
       "<table border=\"1\" class=\"dataframe\">\n",
       "  <thead>\n",
       "    <tr style=\"text-align: right;\">\n",
       "      <th></th>\n",
       "      <th>marital_status</th>\n",
       "      <th>income</th>\n",
       "      <th>numdealspurchases</th>\n",
       "      <th>numstorepurchases</th>\n",
       "      <th>numwebvisitsmonth</th>\n",
       "      <th>numwebpurchases_sklearn</th>\n",
       "      <th>marital_status_oe</th>\n",
       "    </tr>\n",
       "  </thead>\n",
       "  <tbody>\n",
       "    <tr>\n",
       "      <th>0</th>\n",
       "      <td>Divorced</td>\n",
       "      <td>1.608976</td>\n",
       "      <td>-0.701068</td>\n",
       "      <td>0.052191</td>\n",
       "      <td>-1.803407</td>\n",
       "      <td>0.363636</td>\n",
       "      <td>7.0</td>\n",
       "    </tr>\n",
       "    <tr>\n",
       "      <th>1</th>\n",
       "      <td>Single</td>\n",
       "      <td>0.264394</td>\n",
       "      <td>-0.701068</td>\n",
       "      <td>0.361131</td>\n",
       "      <td>-0.142553</td>\n",
       "      <td>0.636364</td>\n",
       "      <td>3.0</td>\n",
       "    </tr>\n",
       "    <tr>\n",
       "      <th>2</th>\n",
       "      <td>Married</td>\n",
       "      <td>0.757562</td>\n",
       "      <td>-0.701068</td>\n",
       "      <td>-0.256748</td>\n",
       "      <td>-1.388194</td>\n",
       "      <td>0.272727</td>\n",
       "      <td>6.0</td>\n",
       "    </tr>\n",
       "    <tr>\n",
       "      <th>3</th>\n",
       "      <td>Together</td>\n",
       "      <td>-0.928642</td>\n",
       "      <td>-0.701068</td>\n",
       "      <td>-1.183568</td>\n",
       "      <td>0.687874</td>\n",
       "      <td>0.090909</td>\n",
       "      <td>5.0</td>\n",
       "    </tr>\n",
       "    <tr>\n",
       "      <th>4</th>\n",
       "      <td>Single</td>\n",
       "      <td>-1.461745</td>\n",
       "      <td>-0.170569</td>\n",
       "      <td>-1.183568</td>\n",
       "      <td>0.687874</td>\n",
       "      <td>0.272727</td>\n",
       "      <td>3.0</td>\n",
       "    </tr>\n",
       "    <tr>\n",
       "      <th>...</th>\n",
       "      <td>...</td>\n",
       "      <td>...</td>\n",
       "      <td>...</td>\n",
       "      <td>...</td>\n",
       "      <td>...</td>\n",
       "      <td>...</td>\n",
       "      <td>...</td>\n",
       "    </tr>\n",
       "    <tr>\n",
       "      <th>2235</th>\n",
       "      <td>Divorced</td>\n",
       "      <td>NaN</td>\n",
       "      <td>NaN</td>\n",
       "      <td>NaN</td>\n",
       "      <td>NaN</td>\n",
       "      <td>NaN</td>\n",
       "      <td>NaN</td>\n",
       "    </tr>\n",
       "    <tr>\n",
       "      <th>2236</th>\n",
       "      <td>Married</td>\n",
       "      <td>NaN</td>\n",
       "      <td>NaN</td>\n",
       "      <td>NaN</td>\n",
       "      <td>NaN</td>\n",
       "      <td>NaN</td>\n",
       "      <td>NaN</td>\n",
       "    </tr>\n",
       "    <tr>\n",
       "      <th>2237</th>\n",
       "      <td>Divorced</td>\n",
       "      <td>NaN</td>\n",
       "      <td>NaN</td>\n",
       "      <td>NaN</td>\n",
       "      <td>NaN</td>\n",
       "      <td>NaN</td>\n",
       "      <td>NaN</td>\n",
       "    </tr>\n",
       "    <tr>\n",
       "      <th>2238</th>\n",
       "      <td>Married</td>\n",
       "      <td>NaN</td>\n",
       "      <td>NaN</td>\n",
       "      <td>NaN</td>\n",
       "      <td>NaN</td>\n",
       "      <td>NaN</td>\n",
       "      <td>NaN</td>\n",
       "    </tr>\n",
       "    <tr>\n",
       "      <th>2239</th>\n",
       "      <td>Married</td>\n",
       "      <td>NaN</td>\n",
       "      <td>NaN</td>\n",
       "      <td>NaN</td>\n",
       "      <td>NaN</td>\n",
       "      <td>NaN</td>\n",
       "      <td>NaN</td>\n",
       "    </tr>\n",
       "  </tbody>\n",
       "</table>\n",
       "<p>2202 rows × 7 columns</p>\n",
       "</div>"
      ],
      "text/plain": [
       "     marital_status    income  numdealspurchases  numstorepurchases  \\\n",
       "0          Divorced  1.608976          -0.701068           0.052191   \n",
       "1            Single  0.264394          -0.701068           0.361131   \n",
       "2           Married  0.757562          -0.701068          -0.256748   \n",
       "3          Together -0.928642          -0.701068          -1.183568   \n",
       "4            Single -1.461745          -0.170569          -1.183568   \n",
       "...             ...       ...                ...                ...   \n",
       "2235       Divorced       NaN                NaN                NaN   \n",
       "2236        Married       NaN                NaN                NaN   \n",
       "2237       Divorced       NaN                NaN                NaN   \n",
       "2238        Married       NaN                NaN                NaN   \n",
       "2239        Married       NaN                NaN                NaN   \n",
       "\n",
       "      numwebvisitsmonth  numwebpurchases_sklearn  marital_status_oe  \n",
       "0             -1.803407                 0.363636                7.0  \n",
       "1             -0.142553                 0.636364                3.0  \n",
       "2             -1.388194                 0.272727                6.0  \n",
       "3              0.687874                 0.090909                5.0  \n",
       "4              0.687874                 0.272727                3.0  \n",
       "...                 ...                      ...                ...  \n",
       "2235                NaN                      NaN                NaN  \n",
       "2236                NaN                      NaN                NaN  \n",
       "2237                NaN                      NaN                NaN  \n",
       "2238                NaN                      NaN                NaN  \n",
       "2239                NaN                      NaN                NaN  \n",
       "\n",
       "[2202 rows x 7 columns]"
      ]
     },
     "execution_count": 74,
     "metadata": {},
     "output_type": "execute_result"
    }
   ],
   "source": [
    "# Visualizamos el nuevo dataframe y observamos que nos aparecen varias filas en las que todos los valores son nulos excepto \"marital_status\".\n",
    "df_anova"
   ]
  },
  {
   "cell_type": "code",
   "execution_count": 75,
   "metadata": {},
   "outputs": [
    {
     "data": {
      "text/plain": [
       "marital_status              0\n",
       "income                     36\n",
       "numdealspurchases          36\n",
       "numstorepurchases          36\n",
       "numwebvisitsmonth          36\n",
       "numwebpurchases_sklearn    36\n",
       "marital_status_oe          36\n",
       "dtype: int64"
      ]
     },
     "execution_count": 75,
     "metadata": {},
     "output_type": "execute_result"
    }
   ],
   "source": [
    "# Vemos el total de nulos en el dataframe y observamos que nos aparecen 36 filas con nulos.\n",
    "df_anova.isnull().sum()"
   ]
  },
  {
   "cell_type": "code",
   "execution_count": 76,
   "metadata": {},
   "outputs": [
    {
     "data": {
      "text/plain": [
       "(2202, 7)"
      ]
     },
     "execution_count": 76,
     "metadata": {},
     "output_type": "execute_result"
    }
   ],
   "source": [
    "# Vemos el total de filas y columnas que contiene el dataframe \n",
    "df_anova.shape"
   ]
  },
  {
   "attachments": {},
   "cell_type": "markdown",
   "metadata": {},
   "source": [
    "Después de observar el número de filas con nulos y sus características (todo nulo menos \"marital_status\") y el total de filas del dataframe, consideramos apropiado eliminar estas 36 filas ya que no aportan ningún tipo de información al estudio."
   ]
  },
  {
   "cell_type": "code",
   "execution_count": 77,
   "metadata": {},
   "outputs": [],
   "source": [
    "df_anova.dropna(how=\"any\", axis=0, inplace=True)"
   ]
  },
  {
   "cell_type": "code",
   "execution_count": 78,
   "metadata": {},
   "outputs": [
    {
     "data": {
      "text/plain": [
       "marital_status             0\n",
       "income                     0\n",
       "numdealspurchases          0\n",
       "numstorepurchases          0\n",
       "numwebvisitsmonth          0\n",
       "numwebpurchases_sklearn    0\n",
       "marital_status_oe          0\n",
       "dtype: int64"
      ]
     },
     "execution_count": 78,
     "metadata": {},
     "output_type": "execute_result"
    }
   ],
   "source": [
    "df_anova.isnull().sum()"
   ]
  },
  {
   "cell_type": "code",
   "execution_count": 79,
   "metadata": {},
   "outputs": [],
   "source": [
    "# Eliminamos la columna \"marital_status\" para quedarnos con la que nos da la misma información pero codficada\n",
    "df_anova.drop([\"marital_status\"], axis = 1, inplace = True)"
   ]
  },
  {
   "cell_type": "code",
   "execution_count": 80,
   "metadata": {},
   "outputs": [
    {
     "data": {
      "text/html": [
       "<div>\n",
       "<style scoped>\n",
       "    .dataframe tbody tr th:only-of-type {\n",
       "        vertical-align: middle;\n",
       "    }\n",
       "\n",
       "    .dataframe tbody tr th {\n",
       "        vertical-align: top;\n",
       "    }\n",
       "\n",
       "    .dataframe thead th {\n",
       "        text-align: right;\n",
       "    }\n",
       "</style>\n",
       "<table border=\"1\" class=\"dataframe\">\n",
       "  <thead>\n",
       "    <tr style=\"text-align: right;\">\n",
       "      <th></th>\n",
       "      <th>income</th>\n",
       "      <th>numdealspurchases</th>\n",
       "      <th>numstorepurchases</th>\n",
       "      <th>numwebvisitsmonth</th>\n",
       "      <th>numwebpurchases_sklearn</th>\n",
       "      <th>marital_status_oe</th>\n",
       "    </tr>\n",
       "  </thead>\n",
       "  <tbody>\n",
       "    <tr>\n",
       "      <th>0</th>\n",
       "      <td>1.608976</td>\n",
       "      <td>-0.701068</td>\n",
       "      <td>0.052191</td>\n",
       "      <td>-1.803407</td>\n",
       "      <td>0.363636</td>\n",
       "      <td>7.0</td>\n",
       "    </tr>\n",
       "    <tr>\n",
       "      <th>1</th>\n",
       "      <td>0.264394</td>\n",
       "      <td>-0.701068</td>\n",
       "      <td>0.361131</td>\n",
       "      <td>-0.142553</td>\n",
       "      <td>0.636364</td>\n",
       "      <td>3.0</td>\n",
       "    </tr>\n",
       "    <tr>\n",
       "      <th>2</th>\n",
       "      <td>0.757562</td>\n",
       "      <td>-0.701068</td>\n",
       "      <td>-0.256748</td>\n",
       "      <td>-1.388194</td>\n",
       "      <td>0.272727</td>\n",
       "      <td>6.0</td>\n",
       "    </tr>\n",
       "    <tr>\n",
       "      <th>3</th>\n",
       "      <td>-0.928642</td>\n",
       "      <td>-0.701068</td>\n",
       "      <td>-1.183568</td>\n",
       "      <td>0.687874</td>\n",
       "      <td>0.090909</td>\n",
       "      <td>5.0</td>\n",
       "    </tr>\n",
       "    <tr>\n",
       "      <th>4</th>\n",
       "      <td>-1.461745</td>\n",
       "      <td>-0.170569</td>\n",
       "      <td>-1.183568</td>\n",
       "      <td>0.687874</td>\n",
       "      <td>0.272727</td>\n",
       "      <td>3.0</td>\n",
       "    </tr>\n",
       "  </tbody>\n",
       "</table>\n",
       "</div>"
      ],
      "text/plain": [
       "     income  numdealspurchases  numstorepurchases  numwebvisitsmonth  \\\n",
       "0  1.608976          -0.701068           0.052191          -1.803407   \n",
       "1  0.264394          -0.701068           0.361131          -0.142553   \n",
       "2  0.757562          -0.701068          -0.256748          -1.388194   \n",
       "3 -0.928642          -0.701068          -1.183568           0.687874   \n",
       "4 -1.461745          -0.170569          -1.183568           0.687874   \n",
       "\n",
       "   numwebpurchases_sklearn  marital_status_oe  \n",
       "0                 0.363636                7.0  \n",
       "1                 0.636364                3.0  \n",
       "2                 0.272727                6.0  \n",
       "3                 0.090909                5.0  \n",
       "4                 0.272727                3.0  "
      ]
     },
     "execution_count": 80,
     "metadata": {},
     "output_type": "execute_result"
    }
   ],
   "source": [
    "df_anova.head()"
   ]
  },
  {
   "attachments": {},
   "cell_type": "markdown",
   "metadata": {},
   "source": [
    "### Codificación de la variable categórica \"education\" en el dataframe Standard (bonus)"
   ]
  },
  {
   "cell_type": "code",
   "execution_count": 81,
   "metadata": {},
   "outputs": [
    {
     "data": {
      "text/plain": [
       "array(['Graduation', 'PhD', '2n Cycle', 'Master', 'Basic'], dtype=object)"
      ]
     },
     "execution_count": 81,
     "metadata": {},
     "output_type": "execute_result"
    }
   ],
   "source": [
    "df_standard[\"education\"].unique()"
   ]
  },
  {
   "attachments": {},
   "cell_type": "markdown",
   "metadata": {},
   "source": [
    "Seguimos con el dataframe Standard donde tenemos la variable categórica \"education\". Analizando el comportamiento de esta variable predictora con la variable respuesta entendemos que los valores únicos de dicha variable no tienen un orden respecto a las compras online, es decir, no hay una relación directa entre la educación del comprador y las compras en el supermercado online. \n",
    "\n",
    "El criterio en el que nos basamos para que esta variable no tenga un orden en relación a la variable respuesta es que las compras online no dependen de tu nivel de estudios (entendemos que es una variable secundaria, es decir, afecta a otras variables que si tienen relación directa con el hecho de comprar online o no)."
   ]
  },
  {
   "attachments": {},
   "cell_type": "markdown",
   "metadata": {},
   "source": [
    "Decidimos elegir el método \"One-Hot Encoding\" frente a \"Get-dummies\" por una precisión a la hora de los resultados."
   ]
  },
  {
   "cell_type": "code",
   "execution_count": 82,
   "metadata": {},
   "outputs": [],
   "source": [
    "# vamos a definir una función que nos aplique este método\n",
    "\n",
    "def one_hot_encoder_one(df,columna,keep_first=True):\n",
    "    \n",
    "    # iniciamos el método de OneHot Encoder\n",
    "    oh = OneHotEncoder()\n",
    "    \n",
    "    # hacemos la codificación de los datos para la variable dada \n",
    "    transformados = oh.fit_transform(df[[columna]])\n",
    "    \n",
    "    # convertimos nuestro array con la codificación hecha en un dataframe\n",
    "    oh_df = pd.DataFrame(transformados.toarray())\n",
    "\n",
    "    # el método get_feature_names nos va a dar el nombre de las columnas nuevas que se nos generarán\n",
    "    oh_df.columns = oh.get_feature_names_out()\n",
    "    \n",
    "    # concatenamos el dataframe original con el dataframe que acabamos de crear\n",
    "    final = pd.concat([df,oh_df],axis=1)\n",
    "    \n",
    "    # eliminamos la columna original \n",
    "    final.drop(columna, axis = 1,  inplace = True)\n",
    "    return final"
   ]
  },
  {
   "cell_type": "code",
   "execution_count": 83,
   "metadata": {},
   "outputs": [],
   "source": [
    "# aplicamos nuestra función al dataset para que nos haga el encoding sobre la columna \"education\"\n",
    "df_standard = one_hot_encoder_one(df_standard, \"education\")"
   ]
  },
  {
   "cell_type": "code",
   "execution_count": 84,
   "metadata": {},
   "outputs": [
    {
     "data": {
      "text/html": [
       "<div>\n",
       "<style scoped>\n",
       "    .dataframe tbody tr th:only-of-type {\n",
       "        vertical-align: middle;\n",
       "    }\n",
       "\n",
       "    .dataframe tbody tr th {\n",
       "        vertical-align: top;\n",
       "    }\n",
       "\n",
       "    .dataframe thead th {\n",
       "        text-align: right;\n",
       "    }\n",
       "</style>\n",
       "<table border=\"1\" class=\"dataframe\">\n",
       "  <thead>\n",
       "    <tr style=\"text-align: right;\">\n",
       "      <th></th>\n",
       "      <th>id</th>\n",
       "      <th>year_birth</th>\n",
       "      <th>marital_status</th>\n",
       "      <th>income</th>\n",
       "      <th>dt_customer</th>\n",
       "      <th>numdealspurchases</th>\n",
       "      <th>numstorepurchases</th>\n",
       "      <th>numwebvisitsmonth</th>\n",
       "      <th>numwebpurchases_sklearn</th>\n",
       "      <th>education_2n Cycle</th>\n",
       "      <th>education_Basic</th>\n",
       "      <th>education_Graduation</th>\n",
       "      <th>education_Master</th>\n",
       "      <th>education_PhD</th>\n",
       "    </tr>\n",
       "  </thead>\n",
       "  <tbody>\n",
       "    <tr>\n",
       "      <th>0</th>\n",
       "      <td>-1.157073</td>\n",
       "      <td>0.092613</td>\n",
       "      <td>Divorced</td>\n",
       "      <td>1.608976</td>\n",
       "      <td>6/16/2014</td>\n",
       "      <td>-0.701068</td>\n",
       "      <td>0.052191</td>\n",
       "      <td>-1.803407</td>\n",
       "      <td>0.363636</td>\n",
       "      <td>0.0</td>\n",
       "      <td>0.0</td>\n",
       "      <td>1.0</td>\n",
       "      <td>0.0</td>\n",
       "      <td>0.0</td>\n",
       "    </tr>\n",
       "    <tr>\n",
       "      <th>1</th>\n",
       "      <td>-1.719067</td>\n",
       "      <td>-0.676627</td>\n",
       "      <td>Single</td>\n",
       "      <td>0.264394</td>\n",
       "      <td>6/15/2014</td>\n",
       "      <td>-0.701068</td>\n",
       "      <td>0.361131</td>\n",
       "      <td>-0.142553</td>\n",
       "      <td>0.636364</td>\n",
       "      <td>0.0</td>\n",
       "      <td>0.0</td>\n",
       "      <td>1.0</td>\n",
       "      <td>0.0</td>\n",
       "      <td>0.0</td>\n",
       "    </tr>\n",
       "    <tr>\n",
       "      <th>2</th>\n",
       "      <td>1.506626</td>\n",
       "      <td>-0.933040</td>\n",
       "      <td>Married</td>\n",
       "      <td>0.757562</td>\n",
       "      <td>5/13/2014</td>\n",
       "      <td>-0.701068</td>\n",
       "      <td>-0.256748</td>\n",
       "      <td>-1.388194</td>\n",
       "      <td>0.272727</td>\n",
       "      <td>0.0</td>\n",
       "      <td>0.0</td>\n",
       "      <td>1.0</td>\n",
       "      <td>0.0</td>\n",
       "      <td>0.0</td>\n",
       "    </tr>\n",
       "    <tr>\n",
       "      <th>3</th>\n",
       "      <td>-1.292567</td>\n",
       "      <td>-0.163800</td>\n",
       "      <td>Together</td>\n",
       "      <td>-0.928642</td>\n",
       "      <td>11/5/2014</td>\n",
       "      <td>-0.701068</td>\n",
       "      <td>-1.183568</td>\n",
       "      <td>0.687874</td>\n",
       "      <td>0.090909</td>\n",
       "      <td>0.0</td>\n",
       "      <td>0.0</td>\n",
       "      <td>1.0</td>\n",
       "      <td>0.0</td>\n",
       "      <td>0.0</td>\n",
       "    </tr>\n",
       "    <tr>\n",
       "      <th>4</th>\n",
       "      <td>-0.065418</td>\n",
       "      <td>1.716564</td>\n",
       "      <td>Single</td>\n",
       "      <td>-1.461745</td>\n",
       "      <td>8/4/2014</td>\n",
       "      <td>-0.170569</td>\n",
       "      <td>-1.183568</td>\n",
       "      <td>0.687874</td>\n",
       "      <td>0.272727</td>\n",
       "      <td>0.0</td>\n",
       "      <td>0.0</td>\n",
       "      <td>1.0</td>\n",
       "      <td>0.0</td>\n",
       "      <td>0.0</td>\n",
       "    </tr>\n",
       "  </tbody>\n",
       "</table>\n",
       "</div>"
      ],
      "text/plain": [
       "         id  year_birth marital_status    income dt_customer  \\\n",
       "0 -1.157073    0.092613       Divorced  1.608976   6/16/2014   \n",
       "1 -1.719067   -0.676627         Single  0.264394   6/15/2014   \n",
       "2  1.506626   -0.933040        Married  0.757562   5/13/2014   \n",
       "3 -1.292567   -0.163800       Together -0.928642   11/5/2014   \n",
       "4 -0.065418    1.716564         Single -1.461745    8/4/2014   \n",
       "\n",
       "   numdealspurchases  numstorepurchases  numwebvisitsmonth  \\\n",
       "0          -0.701068           0.052191          -1.803407   \n",
       "1          -0.701068           0.361131          -0.142553   \n",
       "2          -0.701068          -0.256748          -1.388194   \n",
       "3          -0.701068          -1.183568           0.687874   \n",
       "4          -0.170569          -1.183568           0.687874   \n",
       "\n",
       "   numwebpurchases_sklearn  education_2n Cycle  education_Basic  \\\n",
       "0                 0.363636                 0.0              0.0   \n",
       "1                 0.636364                 0.0              0.0   \n",
       "2                 0.272727                 0.0              0.0   \n",
       "3                 0.090909                 0.0              0.0   \n",
       "4                 0.272727                 0.0              0.0   \n",
       "\n",
       "   education_Graduation  education_Master  education_PhD  \n",
       "0                   1.0               0.0            0.0  \n",
       "1                   1.0               0.0            0.0  \n",
       "2                   1.0               0.0            0.0  \n",
       "3                   1.0               0.0            0.0  \n",
       "4                   1.0               0.0            0.0  "
      ]
     },
     "execution_count": 84,
     "metadata": {},
     "output_type": "execute_result"
    }
   ],
   "source": [
    "df_standard.head()"
   ]
  },
  {
   "attachments": {},
   "cell_type": "markdown",
   "metadata": {},
   "source": [
    "Comprobamos que ahora tenemos diferentes columnas para cada valor único de la columna \"education\" que corresponde con un 0 a que no está presente dicho valor en las otras columnas y un 1 que si está presente."
   ]
  },
  {
   "attachments": {},
   "cell_type": "markdown",
   "metadata": {},
   "source": [
    "Guardad el dataframe, donde deberíais tener las variables estadandarizas, normalizadas y codificadas en un csv para usarlo en el próximo pairprogramming"
   ]
  },
  {
   "cell_type": "code",
   "execution_count": 85,
   "metadata": {},
   "outputs": [],
   "source": [
    "# Guardamos el dataframe df_anova que es donde hemos codificado la variable categórica que se nos quedó a través del estudio Anova.\n",
    "df_anova.to_csv(\"supermercado_encoding.csv\")"
   ]
  },
  {
   "attachments": {},
   "cell_type": "markdown",
   "metadata": {},
   "source": [
    "Happy coding💪🏽"
   ]
  }
 ],
 "metadata": {
  "kernelspec": {
   "display_name": "adalabenv",
   "language": "python",
   "name": "python3"
  },
  "language_info": {
   "codemirror_mode": {
    "name": "ipython",
    "version": 3
   },
   "file_extension": ".py",
   "mimetype": "text/x-python",
   "name": "python",
   "nbconvert_exporter": "python",
   "pygments_lexer": "ipython3",
   "version": "3.10.8 (main, Nov  4 2022, 13:48:29) [GCC 11.2.0]"
  },
  "orig_nbformat": 4,
  "vscode": {
   "interpreter": {
    "hash": "b09caf96bf0d00c87bf22d52d5d9b835bbcda673d84b7b1547b87932947942a4"
   }
  }
 },
 "nbformat": 4,
 "nbformat_minor": 2
}
